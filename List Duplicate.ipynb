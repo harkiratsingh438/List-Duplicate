{
 "cells": [
  {
   "cell_type": "code",
   "execution_count": 3,
   "metadata": {},
   "outputs": [
    {
     "name": "stdout",
     "output_type": "stream",
     "text": [
      "[1, 2, 3, 5, 8, 13, 21, 34, 55, 89, 4, 6, 7, 9, 10, 11, 12]\n",
      "[1, 2, 3, 34, 5, 4, 6, 8, 7, 9, 10, 11, 13, 12, 21, 55, 89]\n"
     ]
    }
   ],
   "source": [
    "def remove_dup_loop(input_list):\n",
    "    \"\"\"\n",
    "    Remove all duplicates in list. Using loop method.\n",
    "    \n",
    "    Arguments:\n",
    "    input_list -- a list input\n",
    "    \n",
    "    Returns:\n",
    "    new_list -- a list remove all the duplicates.\n",
    "    \"\"\"\n",
    "    new_list = []\n",
    "    new_list.extend(i for i in input_list if i not in new_list)\n",
    "    return new_list\n",
    "    \n",
    "\n",
    "def remove_dup_set(input_list):\n",
    "    \"\"\"\n",
    "    Remove all duplicates in list. Using set method.\n",
    "    \n",
    "    Arguments:\n",
    "    input_list -- a list input\n",
    "    \n",
    "    Returns:\n",
    "    new_list -- a list remove all the duplicates.\n",
    "    \"\"\"\n",
    "    return list(set(input_list))\n",
    "\n",
    "a = [1, 1, 2, 3, 5, 8, 13, 21, 34, 55, 89, 1, 2, 3, 4, 5, 6, 7, 8, 9, 10, 11, 12, 13]\n",
    "print(remove_dup_loop(a))\n",
    "print(remove_dup_set(a))"
   ]
  },
  {
   "cell_type": "code",
   "execution_count": null,
   "metadata": {},
   "outputs": [],
   "source": []
  }
 ],
 "metadata": {
  "kernelspec": {
   "display_name": "Python 3",
   "language": "python",
   "name": "python3"
  },
  "language_info": {
   "codemirror_mode": {
    "name": "ipython",
    "version": 3
   },
   "file_extension": ".py",
   "mimetype": "text/x-python",
   "name": "python",
   "nbconvert_exporter": "python",
   "pygments_lexer": "ipython3",
   "version": "3.7.0"
  }
 },
 "nbformat": 4,
 "nbformat_minor": 4
}
